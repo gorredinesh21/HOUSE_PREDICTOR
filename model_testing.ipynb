{
 "cells": [
  {
   "cell_type": "code",
   "execution_count": 1,
   "id": "31b8ffa1",
   "metadata": {},
   "outputs": [],
   "source": [
    "from joblib import dump,load\n",
    "model=load('real_estate.joblib')"
   ]
  },
  {
   "cell_type": "code",
   "execution_count": 2,
   "id": "750de3c0",
   "metadata": {},
   "outputs": [],
   "source": [
    "  import numpy as np"
   ]
  },
  {
   "cell_type": "code",
   "execution_count": 3,
   "id": "ad87d967",
   "metadata": {},
   "outputs": [],
   "source": [
    "a=np.array([[-0.42195706,  0.28206793, -1.29200912, -0.2740571 , -0.14776474,\n",
    "        0.41235069, -0.117562  ,  0.14447619, -0.98510566, -0.67007446,\n",
    "       -1.45714146,  0.44334185, -1.0710156 , -0.6966326 ]])"
   ]
  },
  {
   "cell_type": "code",
   "execution_count": 4,
   "id": "29b60f2e",
   "metadata": {},
   "outputs": [
    {
     "name": "stderr",
     "output_type": "stream",
     "text": [
      "/home/dinesh/.local/lib/python3.10/site-packages/sklearn/base.py:464: UserWarning: X does not have valid feature names, but RandomForestRegressor was fitted with feature names\n",
      "  warnings.warn(\n"
     ]
    },
    {
     "data": {
      "text/plain": [
       "array([42.4878])"
      ]
     },
     "execution_count": 4,
     "metadata": {},
     "output_type": "execute_result"
    }
   ],
   "source": [
    " model.predict(a)"
   ]
  },
  {
   "cell_type": "code",
   "execution_count": null,
   "id": "0c970bac",
   "metadata": {},
   "outputs": [],
   "source": []
  }
 ],
 "metadata": {
  "kernelspec": {
   "display_name": "Python 3 (ipykernel)",
   "language": "python",
   "name": "python3"
  },
  "language_info": {
   "codemirror_mode": {
    "name": "ipython",
    "version": 3
   },
   "file_extension": ".py",
   "mimetype": "text/x-python",
   "name": "python",
   "nbconvert_exporter": "python",
   "pygments_lexer": "ipython3",
   "version": "3.10.12"
  }
 },
 "nbformat": 4,
 "nbformat_minor": 5
}
